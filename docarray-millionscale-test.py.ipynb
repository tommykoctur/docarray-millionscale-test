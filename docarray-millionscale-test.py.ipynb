{
 "cells": [
  {
   "cell_type": "code",
   "execution_count": 3,
   "outputs": [
    {
     "name": "stdout",
     "output_type": "stream",
     "text": [
      "arm64\r\n"
     ]
    }
   ],
   "source": [
    "!arch"
   ],
   "metadata": {
    "collapsed": false,
    "pycharm": {
     "name": "#%%\n"
    }
   }
  },
  {
   "cell_type": "code",
   "execution_count": null,
   "outputs": [],
   "source": [
    "#!wget ftp://ftp.irisa.fr/local/texmex/corpus/sift.tar.gz"
   ],
   "metadata": {
    "collapsed": false,
    "pycharm": {
     "name": "#%%\n"
    }
   }
  },
  {
   "cell_type": "code",
   "execution_count": 4,
   "outputs": [],
   "source": [
    "import numpy as np\n",
    "from docarray import Document, DocumentArray"
   ],
   "metadata": {
    "collapsed": false,
    "pycharm": {
     "name": "#%%\n"
    }
   }
  },
  {
   "cell_type": "code",
   "execution_count": 12,
   "outputs": [],
   "source": [
    "n_dim = 128"
   ],
   "metadata": {
    "collapsed": false,
    "pycharm": {
     "name": "#%%\n"
    }
   }
  },
  {
   "cell_type": "code",
   "execution_count": 33,
   "outputs": [],
   "source": [
    "# now define a function to read the fvecs file format of Sift1M dataset\n",
    "# credits: https://www.pinecone.io/learn/vector-indexes/\n",
    "def read_fvecs(fp):\n",
    "    a = np.fromfile(fp, dtype='int32')\n",
    "    d = a[0]\n",
    "    return a.reshape(-1, d + 1)[:, 1:].copy().view('float32')"
   ],
   "metadata": {
    "collapsed": false,
    "pycharm": {
     "name": "#%%\n"
    }
   }
  },
  {
   "cell_type": "code",
   "execution_count": 37,
   "outputs": [
    {
     "data": {
      "text/plain": "(1000000, 128)"
     },
     "execution_count": 37,
     "metadata": {},
     "output_type": "execute_result"
    }
   ],
   "source": [
    "base_file = \"sift/sift_base.fvecs\"\n",
    "base_fv = read_fvecs(base_file)\n",
    "base_fv.shape"
   ],
   "metadata": {
    "collapsed": false,
    "pycharm": {
     "name": "#%%\n"
    }
   }
  },
  {
   "cell_type": "code",
   "execution_count": 38,
   "outputs": [
    {
     "data": {
      "text/plain": "(10000, 100)"
     },
     "execution_count": 38,
     "metadata": {},
     "output_type": "execute_result"
    }
   ],
   "source": [
    "ground_truth_file = \"sift/sift_groundtruth.ivecs\"\n",
    "ground_truth_fv = read_fvecs(ground_truth_file)\n",
    "ground_truth_fv.shape"
   ],
   "metadata": {
    "collapsed": false,
    "pycharm": {
     "name": "#%%\n"
    }
   }
  },
  {
   "cell_type": "code",
   "execution_count": 39,
   "outputs": [
    {
     "data": {
      "text/plain": "(100000, 128)"
     },
     "execution_count": 39,
     "metadata": {},
     "output_type": "execute_result"
    }
   ],
   "source": [
    "lear_file = \"sift/sift_learn.fvecs\"\n",
    "lear_fv = read_fvecs(lear_file)\n",
    "lear_fv.shape"
   ],
   "metadata": {
    "collapsed": false,
    "pycharm": {
     "name": "#%%\n"
    }
   }
  },
  {
   "cell_type": "code",
   "execution_count": 40,
   "outputs": [
    {
     "data": {
      "text/plain": "(10000, 128)"
     },
     "execution_count": 40,
     "metadata": {},
     "output_type": "execute_result"
    }
   ],
   "source": [
    "query_file = \"sift/sift_query.fvecs\"\n",
    "query_fv = read_fvecs(query_file)\n",
    "query_fv.shape"
   ],
   "metadata": {
    "collapsed": false,
    "pycharm": {
     "name": "#%%\n"
    }
   }
  },
  {
   "cell_type": "code",
   "execution_count": 45,
   "outputs": [
    {
     "data": {
      "text/plain": "array([1.306129e-39, 1.310040e-39, 7.872677e-40, 9.923673e-40,\n       9.903971e-40, 9.749618e-40, 6.100483e-40, 9.826718e-40,\n       6.383433e-40, 1.222952e-39, 5.120064e-41, 7.883621e-40,\n       1.272721e-39, 8.414783e-40, 1.252202e-39, 8.683286e-40,\n       7.877638e-40, 1.046673e-39, 7.923208e-40, 3.316131e-40,\n       7.967405e-40, 7.928743e-40, 5.082089e-41, 3.049225e-42,\n       1.305494e-39, 6.365580e-40, 5.257672e-42, 1.275348e-39,\n       1.012637e-39, 1.181833e-39, 1.242433e-39, 9.570728e-41,\n       1.092609e-39, 1.220623e-39, 1.011326e-39, 6.988836e-41,\n       1.241862e-39, 6.733197e-40, 8.685654e-40, 9.835980e-40,\n       1.235945e-42, 1.227229e-40, 3.142594e-40, 5.617806e-42,\n       1.221327e-39, 6.709613e-40, 3.154547e-40, 1.268050e-39,\n       5.488256e-40, 7.592866e-40, 7.924119e-40, 3.975484e-42,\n       1.441978e-40, 2.241419e-40, 2.405511e-40, 1.342227e-39,\n       1.109621e-39, 5.166615e-40, 6.354146e-40, 1.282864e-39,\n       1.304002e-39, 7.626917e-40, 2.535720e-40, 8.385931e-41,\n       1.237271e-39, 1.260901e-39, 1.237292e-39, 1.384715e-39,\n       1.205195e-39, 3.101620e-40, 7.794148e-40, 7.625894e-40,\n       5.528221e-40, 6.816714e-40, 7.426686e-40, 1.026413e-39,\n       1.459060e-40, 1.294535e-39, 7.916131e-40, 5.064153e-41,\n       9.958243e-40, 1.130530e-39, 6.520158e-40, 3.323333e-40,\n       1.220598e-39, 7.985117e-40, 5.249502e-40, 6.498956e-40,\n       1.340668e-39, 1.288069e-39, 9.506199e-40, 2.224687e-40,\n       3.377073e-40, 1.305937e-39, 2.302193e-41, 1.280058e-40,\n       8.877086e-41, 5.581456e-40, 1.305619e-39, 1.386952e-39],\n      dtype=float32)"
     },
     "execution_count": 45,
     "metadata": {},
     "output_type": "execute_result"
    }
   ],
   "source": [
    "ground_truth_fv[0]"
   ],
   "metadata": {
    "collapsed": false,
    "pycharm": {
     "name": "#%%\n"
    }
   }
  },
  {
   "cell_type": "code",
   "execution_count": 47,
   "outputs": [],
   "source": [
    "da = DocumentArray()\n",
    "for i, d_vec in enumerate(base_fv):\n",
    "    da.extend([Document(id=i, embedding=d_vec)])"
   ],
   "metadata": {
    "collapsed": false,
    "pycharm": {
     "name": "#%%\n"
    }
   }
  },
  {
   "cell_type": "code",
   "execution_count": 48,
   "outputs": [
    {
     "data": {
      "text/plain": "╭─────────────── Documents Summary ────────────────╮\n│                                                  │\n│   Type                   DocumentArrayInMemory   │\n│   Length                 \u001B[1;36m1000000\u001B[0m                 │\n│   Homogenous Documents   \u001B[3;92mTrue\u001B[0m                    │\n│   Common Attributes      \u001B[1m(\u001B[0m\u001B[32m'id'\u001B[0m, \u001B[32m'embedding'\u001B[0m\u001B[1m)\u001B[0m     │\n│   Multimodal dataclass   \u001B[3;91mFalse\u001B[0m                   │\n│                                                  │\n╰──────────────────────────────────────────────────╯\n╭────────────────────── Attributes Summary ───────────────────────╮\n│                                                                 │\n│  \u001B[1m \u001B[0m\u001B[1mAttribute\u001B[0m\u001B[1m \u001B[0m \u001B[1m \u001B[0m\u001B[1mData type   \u001B[0m\u001B[1m \u001B[0m \u001B[1m \u001B[0m\u001B[1m#Unique values\u001B[0m\u001B[1m \u001B[0m \u001B[1m \u001B[0m\u001B[1mHas empty value\u001B[0m\u001B[1m \u001B[0m  │\n│  ─────────────────────────────────────────────────────────────  │\n│   embedding   \u001B[1m(\u001B[0m\u001B[32m'ndarray'\u001B[0m,\u001B[1m)\u001B[0m   \u001B[1;36m1000000\u001B[0m          \u001B[3;91mFalse\u001B[0m             │\n│   id          \u001B[1m(\u001B[0m\u001B[32m'int'\u001B[0m,\u001B[1m)\u001B[0m       \u001B[1;36m1000000\u001B[0m          \u001B[3;91mFalse\u001B[0m             │\n│                                                                 │\n╰─────────────────────────────────────────────────────────────────╯\n",
      "text/html": "<pre style=\"white-space:pre;overflow-x:auto;line-height:normal;font-family:Menlo,'DejaVu Sans Mono',consolas,'Courier New',monospace\">╭─────────────── Documents Summary ────────────────╮\n│                                                  │\n│   Type                   DocumentArrayInMemory   │\n│   Length                 <span style=\"color: #008080; text-decoration-color: #008080; font-weight: bold\">1000000</span>                 │\n│   Homogenous Documents   <span style=\"color: #00ff00; text-decoration-color: #00ff00; font-style: italic\">True</span>                    │\n│   Common Attributes      <span style=\"font-weight: bold\">(</span><span style=\"color: #008000; text-decoration-color: #008000\">'id'</span>, <span style=\"color: #008000; text-decoration-color: #008000\">'embedding'</span><span style=\"font-weight: bold\">)</span>     │\n│   Multimodal dataclass   <span style=\"color: #ff0000; text-decoration-color: #ff0000; font-style: italic\">False</span>                   │\n│                                                  │\n╰──────────────────────────────────────────────────╯\n╭────────────────────── Attributes Summary ───────────────────────╮\n│                                                                 │\n│  <span style=\"font-weight: bold\"> Attribute </span> <span style=\"font-weight: bold\"> Data type    </span> <span style=\"font-weight: bold\"> #Unique values </span> <span style=\"font-weight: bold\"> Has empty value </span>  │\n│  ─────────────────────────────────────────────────────────────  │\n│   embedding   <span style=\"font-weight: bold\">(</span><span style=\"color: #008000; text-decoration-color: #008000\">'ndarray'</span>,<span style=\"font-weight: bold\">)</span>   <span style=\"color: #008080; text-decoration-color: #008080; font-weight: bold\">1000000</span>          <span style=\"color: #ff0000; text-decoration-color: #ff0000; font-style: italic\">False</span>             │\n│   id          <span style=\"font-weight: bold\">(</span><span style=\"color: #008000; text-decoration-color: #008000\">'int'</span>,<span style=\"font-weight: bold\">)</span>       <span style=\"color: #008080; text-decoration-color: #008080; font-weight: bold\">1000000</span>          <span style=\"color: #ff0000; text-decoration-color: #ff0000; font-style: italic\">False</span>             │\n│                                                                 │\n╰─────────────────────────────────────────────────────────────────╯\n</pre>\n"
     },
     "metadata": {},
     "output_type": "display_data"
    }
   ],
   "source": [
    "da.summary()"
   ],
   "metadata": {
    "collapsed": false,
    "pycharm": {
     "name": "#%%\n"
    }
   }
  },
  {
   "cell_type": "code",
   "execution_count": null,
   "outputs": [],
   "source": [],
   "metadata": {
    "collapsed": false,
    "pycharm": {
     "name": "#%%\n"
    }
   }
  }
 ],
 "metadata": {
  "kernelspec": {
   "display_name": "Python 3",
   "language": "python",
   "name": "python3"
  },
  "language_info": {
   "codemirror_mode": {
    "name": "ipython",
    "version": 2
   },
   "file_extension": ".py",
   "mimetype": "text/x-python",
   "name": "python",
   "nbconvert_exporter": "python",
   "pygments_lexer": "ipython2",
   "version": "2.7.6"
  }
 },
 "nbformat": 4,
 "nbformat_minor": 0
}